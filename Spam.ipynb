{
 "cells": [
  {
   "cell_type": "code",
   "execution_count": 1,
   "id": "e9a4ff28-763b-4079-928a-0118079054c9",
   "metadata": {},
   "outputs": [],
   "source": [
    "import pandas as pd\n",
    "import numpy as np"
   ]
  },
  {
   "cell_type": "code",
   "execution_count": 21,
   "id": "86a948b8-32dd-4e51-99a4-6a33baebe338",
   "metadata": {},
   "outputs": [
    {
     "name": "stdout",
     "output_type": "stream",
     "text": [
      "  label                                            Message\n",
      "0   ham  Go until jurong point, crazy.. Available only ...\n",
      "1   ham                      Ok lar... Joking wif u oni...\n",
      "2  spam  Free entry in 2 a wkly comp to win FA Cup fina...\n",
      "3   ham  U dun say so early hor... U c already then say...\n",
      "4   ham  Nah I don't think he goes to usf, he lives aro...\n"
     ]
    }
   ],
   "source": [
    "df=pd.read_csv(\"D:/Learning/Spam_Detection_Project/spam.csv\", encoding='latin-1')[['v1','v2']]\n",
    "df.columns=('label','Message')\n",
    "\n",
    "print(df.head())"
   ]
  },
  {
   "cell_type": "code",
   "execution_count": 23,
   "id": "75f3b391-6b80-4394-b09e-f0fbdc7f7ee6",
   "metadata": {},
   "outputs": [
    {
     "name": "stdout",
     "output_type": "stream",
     "text": [
      "Total msg after cleaning: 5169\n"
     ]
    }
   ],
   "source": [
    "df.dropna(inplace=True)\n",
    "df.drop_duplicates(inplace=True)   #Remove duplicates and null\n",
    "\n",
    "df['Message']=df['Message'].str.strip().str.lower()   #clean Msg Column\n",
    "\n",
    "print(f\"Total msg after cleaning: {len(df)}\")"
   ]
  },
  {
   "cell_type": "code",
   "execution_count": 25,
   "id": "da0e02a0-199c-4986-875e-cbb7f19b9cc3",
   "metadata": {},
   "outputs": [
    {
     "name": "stdout",
     "output_type": "stream",
     "text": [
      "label\n",
      "ham     4516\n",
      "spam     653\n",
      "Name: count, dtype: int64\n"
     ]
    }
   ],
   "source": [
    "print(df['label'].value_counts())"
   ]
  },
  {
   "cell_type": "code",
   "execution_count": 27,
   "id": "5f50ed11-b3b1-4b9c-b8d0-6291f29e939a",
   "metadata": {},
   "outputs": [
    {
     "name": "stdout",
     "output_type": "stream",
     "text": [
      "Top 20 words in spam messages:\n",
      "you : 225\n",
      "the : 182\n",
      "for : 178\n",
      "now : 160\n",
      "txt : 133\n",
      "and : 104\n",
      "www : 83\n",
      "our : 76\n",
      "are : 69\n",
      "get : 65\n",
      "new : 62\n",
      "won : 61\n",
      "out : 48\n",
      "msg : 47\n",
      "win : 45\n",
      "per : 41\n",
      "who : 41\n",
      "com : 40\n",
      "min : 36\n",
      "has : 28\n"
     ]
    }
   ],
   "source": [
    "from collections import Counter\n",
    "import re\n",
    "\n",
    "spam_msg = df[df['label']=='spam']['Message']   #Filter only spam messages\n",
    "all_spam_text=\"\".join(spam_msg)  # Join all spam messages\n",
    "\n",
    "# Tokenize words (basic split on whitespace and non-alphabetic characters)\n",
    "words=re.findall(r'\\b[a-z]{3}\\b', all_spam_text) #words with 3+ characters\n",
    "\n",
    "#Count Frequency\n",
    "common_words=Counter(words).most_common(20)\n",
    "print(\"Top 20 words in spam messages:\")\n",
    "for word, count in common_words:\n",
    "    print(f\"{word} : {count}\")"
   ]
  },
  {
   "cell_type": "code",
   "execution_count": 29,
   "id": "d19ca529-d456-4ce0-bb2e-10326f99251f",
   "metadata": {},
   "outputs": [],
   "source": [
    "import re\n",
    "\n",
    "# Define spam keywords\n",
    "spam_keywords = [\n",
    "    'win', 'winner', 'won', 'free', 'cash', 'urgent', 'prize',\n",
    "    'congratulations', 'offer', 'credit', 'click', 'buy', 'call now',\n",
    "    'selected', 'guaranteed', 'claim', 'subscribe', 'cheap', 'money'\n",
    "]\n",
    "\n",
    "# Define the spam scoring function\n",
    "def compute_spam_score(message):\n",
    "    score = 0\n",
    "    msg = message.lower()\n",
    "\n",
    "    # 1. Keyword match\n",
    "    for keyword in spam_keywords:\n",
    "        if keyword in msg:\n",
    "            score += 2\n",
    "\n",
    "    # 2. Check for links (corrected regex)\n",
    "    if re.search(r'http\\S+|www\\.\\S+|\\.com', msg):\n",
    "        score += 2\n",
    "\n",
    "    # 3. Multiple exclamation marks\n",
    "    if re.search(r'!{2,}', message):\n",
    "        score += 1\n",
    "\n",
    "    # 4. Presence of large numbers (e.g., 1000, 50000)\n",
    "    if re.search(r'\\d{3,}', msg):\n",
    "        score += 1\n",
    "\n",
    "    # 5. ALL CAPS words\n",
    "    if re.search(r'\\b[A-Z]{3,}\\b', message):\n",
    "        score += 1\n",
    "\n",
    "    return score\n"
   ]
  },
  {
   "cell_type": "code",
   "execution_count": 43,
   "id": "cddf01b9-1329-4781-a5c8-f5270437d311",
   "metadata": {},
   "outputs": [],
   "source": [
    "df['spam_score']= df['Message'].apply(compute_spam_score)\n",
    "# Add a new column with spam score\n",
    "\n",
    "# Define threshold: if score >= 4, classify as spam\n",
    "df['predicted_label'] = df['spam_score'].apply(lambda x: 'spam' if x>=4 else 'ham')"
   ]
  },
  {
   "cell_type": "code",
   "execution_count": 45,
   "id": "454dd562-3488-46b3-940c-f21acf48b57c",
   "metadata": {},
   "outputs": [
    {
     "name": "stdout",
     "output_type": "stream",
     "text": [
      "Index(['label', 'Message', 'spam_score', 'predefined_label',\n",
      "       'predicted_label'],\n",
      "      dtype='object')\n"
     ]
    }
   ],
   "source": [
    "print (df.columns)"
   ]
  },
  {
   "cell_type": "code",
   "execution_count": 47,
   "id": "12a1f27e-4b73-4afc-9fe0-ba6f8a058a68",
   "metadata": {},
   "outputs": [],
   "source": [
    "# import metrics\n",
    "\n",
    "from sklearn.metrics import accuracy_score, precision_score, recall_score, f1_score"
   ]
  },
  {
   "cell_type": "code",
   "execution_count": 49,
   "id": "c0b29485-e508-46f1-a28e-7351b3a05646",
   "metadata": {},
   "outputs": [
    {
     "name": "stdout",
     "output_type": "stream",
     "text": [
      "Accuracy:  0.91\n",
      "Precision: 0.90\n",
      "Recall:    0.36\n",
      "F1 Score:  0.51\n"
     ]
    }
   ],
   "source": [
    "# Calculate Performance Metrics\n",
    "\n",
    "# Get actual and predicted labels\n",
    "y_true = df['label']\n",
    "y_pred = df['predicted_label']\n",
    "\n",
    "# Calculate metrics\n",
    "accuracy = accuracy_score(y_true, y_pred)\n",
    "precision = precision_score(y_true, y_pred, pos_label='spam')\n",
    "recall = recall_score(y_true, y_pred, pos_label='spam')\n",
    "f1 = f1_score(y_true, y_pred, pos_label='spam')\n",
    "\n",
    "# Print results\n",
    "print(f\"Accuracy:  {accuracy:.2f}\")\n",
    "print(f\"Precision: {precision:.2f}\")\n",
    "print(f\"Recall:    {recall:.2f}\")\n",
    "print(f\"F1 Score:  {f1:.2f}\")\n"
   ]
  },
  {
   "cell_type": "code",
   "execution_count": 57,
   "id": "39a7d29a-3a33-4d3f-9a82-9e8fd3081e2b",
   "metadata": {},
   "outputs": [],
   "source": [
    "df[['Message','label','spam_score','predefined_label']].to_csv('Spam_final.csv', index=False)"
   ]
  },
  {
   "cell_type": "code",
   "execution_count": null,
   "id": "c140911e-6103-4202-a141-9a90cc68309c",
   "metadata": {},
   "outputs": [],
   "source": []
  }
 ],
 "metadata": {
  "kernelspec": {
   "display_name": "Python [conda env:base] *",
   "language": "python",
   "name": "conda-base-py"
  },
  "language_info": {
   "codemirror_mode": {
    "name": "ipython",
    "version": 3
   },
   "file_extension": ".py",
   "mimetype": "text/x-python",
   "name": "python",
   "nbconvert_exporter": "python",
   "pygments_lexer": "ipython3",
   "version": "3.12.7"
  }
 },
 "nbformat": 4,
 "nbformat_minor": 5
}
